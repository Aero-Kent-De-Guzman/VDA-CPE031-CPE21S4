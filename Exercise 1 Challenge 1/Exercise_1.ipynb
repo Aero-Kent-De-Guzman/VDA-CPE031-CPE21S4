{
  "nbformat": 4,
  "nbformat_minor": 0,
  "metadata": {
    "colab": {
      "provenance": [],
      "authorship_tag": "ABX9TyMLPw+SSsBYHqzUWpT2NySE",
      "include_colab_link": true
    },
    "kernelspec": {
      "name": "python3",
      "display_name": "Python 3"
    },
    "language_info": {
      "name": "python"
    }
  },
  "cells": [
    {
      "cell_type": "markdown",
      "metadata": {
        "id": "view-in-github",
        "colab_type": "text"
      },
      "source": [
        "<a href=\"https://colab.research.google.com/github/Aero-Kent-De-Guzman/VDA-CPE031-CPE21S4/blob/main/Exercise_1.ipynb\" target=\"_parent\"><img src=\"https://colab.research.google.com/assets/colab-badge.svg\" alt=\"Open In Colab\"/></a>"
      ]
    },
    {
      "cell_type": "markdown",
      "source": [
        "# **1. Variables and Data Types**"
      ],
      "metadata": {
        "id": "_DFmEusa1uh2"
      }
    },
    {
      "cell_type": "markdown",
      "source": [
        "**Python uses five standard data types:**"
      ],
      "metadata": {
        "id": "Zz9lz4FO4D1l"
      }
    },
    {
      "cell_type": "markdown",
      "source": [
        "**Numbers**\n"
      ],
      "metadata": {
        "id": "bviX7X_A2v2_"
      }
    },
    {
      "cell_type": "code",
      "source": [
        "varNUm = 123\n",
        "pi = 3.14159"
      ],
      "metadata": {
        "id": "0wxdwoB7-fg-"
      },
      "execution_count": null,
      "outputs": []
    },
    {
      "cell_type": "markdown",
      "source": [
        "**Strings**\n"
      ],
      "metadata": {
        "id": "IGXwT_XV29Qe"
      }
    },
    {
      "cell_type": "code",
      "source": [
        "varStrings = \"Hello World!\"\n",
        "varText = 'This is a String'"
      ],
      "metadata": {
        "id": "o6R5M6Ls-m-F"
      },
      "execution_count": null,
      "outputs": []
    },
    {
      "cell_type": "markdown",
      "source": [
        "**Lists**"
      ],
      "metadata": {
        "id": "xPfgofFR3VF2"
      }
    },
    {
      "cell_type": "code",
      "source": [
        "varList = [\"abc\",123]"
      ],
      "metadata": {
        "id": "cvpeD8Xy-rBm"
      },
      "execution_count": null,
      "outputs": []
    },
    {
      "cell_type": "markdown",
      "source": [
        "**Tuples**\n"
      ],
      "metadata": {
        "id": "DJh_diKL3er2"
      }
    },
    {
      "cell_type": "code",
      "source": [
        "varTuple = 'abc', 123, \"HELLO\""
      ],
      "metadata": {
        "id": "6KpFInsF-tX1"
      },
      "execution_count": null,
      "outputs": []
    },
    {
      "cell_type": "markdown",
      "source": [
        "**Dictionaries**\n"
      ],
      "metadata": {
        "id": "xQ8Njn193sMW"
      }
    },
    {
      "cell_type": "code",
      "source": [
        "Var = 3\n",
        "VarDict = {'first':1, '2':'2nd', 3:var}"
      ],
      "metadata": {
        "id": "szkBa7F5-vym"
      },
      "execution_count": null,
      "outputs": []
    },
    {
      "cell_type": "code",
      "source": [
        "varDict = {}\n",
        "varDict['first'] = 1\n",
        "varDict['2'] = '2nd'\n",
        "varDict[3] = var"
      ],
      "metadata": {
        "id": "IK0DM1cJ-wil"
      },
      "execution_count": null,
      "outputs": []
    },
    {
      "cell_type": "markdown",
      "source": [
        "# **2. Arithmetic**\n",
        "\n"
      ],
      "metadata": {
        "id": "OINbLXxK4e4t"
      }
    },
    {
      "cell_type": "markdown",
      "source": [
        "**Addition**\n",
        "\n",
        "```\n",
        "a = 5 + 3\n",
        "```\n",
        "> 8\n"
      ],
      "metadata": {
        "id": "AIqiOgGV4mqt"
      }
    },
    {
      "cell_type": "markdown",
      "source": [
        "**Subtraction**\n",
        "\n",
        "\n",
        "```\n",
        "a = 5 - 3\n",
        "```\n",
        "> 2\n"
      ],
      "metadata": {
        "id": "X6t-XK3b47ZW"
      }
    },
    {
      "cell_type": "markdown",
      "source": [
        "**Multiplication**\n",
        "\n",
        "\n",
        "```\n",
        "a = 5 * 3\n",
        "```\n",
        "> 15\n"
      ],
      "metadata": {
        "id": "gswxlUnm5FJ-"
      }
    },
    {
      "cell_type": "markdown",
      "source": [
        "**Exponent**\n",
        "\n",
        "\n",
        "```\n",
        "a = 5 ** 3\n",
        "```\n",
        "> 125\n",
        "\n"
      ],
      "metadata": {
        "id": "yJgcrCjH5NzN"
      }
    },
    {
      "cell_type": "markdown",
      "source": [
        "**Division**\n",
        "\n",
        "\n",
        "```\n",
        "a = 5/3\n",
        "```\n",
        "> 1.66666666666666667\n",
        "\n",
        "```\n",
        "a = 5%3\n",
        "```\n",
        "> 2\n",
        "\n",
        "```\n",
        "a = 5 // 3\n",
        "```\n",
        "> 1"
      ],
      "metadata": {
        "id": "Yk0rehzF5bce"
      }
    },
    {
      "cell_type": "markdown",
      "source": [
        "**Increment/Decrement**\n",
        "\n",
        "\n",
        "```\n",
        "a = 5\n",
        "a += 1\n",
        "```\n",
        "> 6\n"
      ],
      "metadata": {
        "id": "9BMVUVry54Ye"
      }
    },
    {
      "cell_type": "markdown",
      "source": [
        "**Decrement**\n",
        "\n",
        "```\n",
        "a = 5\n",
        "a -= 1\n",
        "```\n",
        "> 4\n"
      ],
      "metadata": {
        "id": "VbPavong6CIe"
      }
    },
    {
      "cell_type": "markdown",
      "source": [
        "**String Concatenation**\n",
        "\n",
        "\n",
        "```\n",
        "a = 'Hello ' + 'World!'\n",
        "```\n",
        "> Hello World!\n"
      ],
      "metadata": {
        "id": "r_EMzeeW6OQA"
      }
    },
    {
      "cell_type": "markdown",
      "source": [
        "**Complex Expressions**\n",
        "\n",
        "\n",
        "```\n",
        "a = 3 + 5 - 6 * 2 / 4\n",
        "```\n",
        "> 5.0\n"
      ],
      "metadata": {
        "id": "So4qoSnV6c8H"
      }
    },
    {
      "cell_type": "markdown",
      "source": [
        "# **3. Control Statements and Data Structures**"
      ],
      "metadata": {
        "id": "UeB64Q1B7OAF"
      }
    },
    {
      "cell_type": "markdown",
      "source": [
        "## **4. Conditional Statements**"
      ],
      "metadata": {
        "id": "gZH_6n7w84-f"
      }
    },
    {
      "cell_type": "markdown",
      "source": [
        "**Boolean Conditions**"
      ],
      "metadata": {
        "id": "uu_E8TDz7TWl"
      }
    },
    {
      "cell_type": "code",
      "source": [
        "x = True\n",
        "if x:\n",
        "  print(\"var x is True\")\n",
        "else:\n",
        "  print(\"var x is False\")"
      ],
      "metadata": {
        "colab": {
          "base_uri": "https://localhost:8080/"
        },
        "id": "WBHkcljk7Zpp",
        "outputId": "56b28879-30b0-4704-a5b1-8b3841b3cbef"
      },
      "execution_count": null,
      "outputs": [
        {
          "output_type": "stream",
          "name": "stdout",
          "text": [
            "var x is True\n"
          ]
        }
      ]
    },
    {
      "cell_type": "markdown",
      "source": [
        "**String Conditions**"
      ],
      "metadata": {
        "id": "Cawd0_aj7qC2"
      }
    },
    {
      "cell_type": "code",
      "source": [
        "x = \"Hello World!\"\n",
        "\n",
        "if x == 'Hello World!':\n",
        "  print(\"var is Hello World!\")\n",
        "else:\n",
        "  print(\"var x is not Hello World!\")"
      ],
      "metadata": {
        "colab": {
          "base_uri": "https://localhost:8080/"
        },
        "id": "buDpuuIT7yJR",
        "outputId": "30fffb55-6516-4016-a5f8-60ba8f71cdff"
      },
      "execution_count": null,
      "outputs": [
        {
          "output_type": "stream",
          "name": "stdout",
          "text": [
            "var is Hello World!\n"
          ]
        }
      ]
    },
    {
      "cell_type": "markdown",
      "source": [
        "**Numerical Conditions**"
      ],
      "metadata": {
        "id": "vjg5-RT58WZG"
      }
    },
    {
      "cell_type": "code",
      "source": [
        "x = 10\n",
        "\n",
        "if x == '10':\n",
        "  print(\"var x is a string\")\n",
        "elif x == 10:\n",
        "  print(\"var x is an integer\")\n",
        "else:\n",
        "  print(\"var x is none of the above\")"
      ],
      "metadata": {
        "colab": {
          "base_uri": "https://localhost:8080/"
        },
        "id": "s2Zox5Iu8V_i",
        "outputId": "42f45f84-b018-4f1e-ece5-908e71b344b8"
      },
      "execution_count": null,
      "outputs": [
        {
          "output_type": "stream",
          "name": "stdout",
          "text": [
            "var x is an integer\n"
          ]
        }
      ]
    },
    {
      "cell_type": "markdown",
      "source": [
        "## **5. Loops**"
      ],
      "metadata": {
        "id": "jALLTojg9TBO"
      }
    },
    {
      "cell_type": "markdown",
      "source": [
        "**For Loops**"
      ],
      "metadata": {
        "id": "p5SrCAdV9YCV"
      }
    },
    {
      "cell_type": "code",
      "source": [
        "for var in range(0, 5, 2):\n",
        "  print(var)"
      ],
      "metadata": {
        "colab": {
          "base_uri": "https://localhost:8080/"
        },
        "id": "vjWZmRRr9Wxa",
        "outputId": "7787b96c-f47f-48ae-b3b7-1c5656fe7280"
      },
      "execution_count": null,
      "outputs": [
        {
          "output_type": "stream",
          "name": "stdout",
          "text": [
            "0\n",
            "2\n",
            "4\n"
          ]
        }
      ]
    },
    {
      "cell_type": "markdown",
      "source": [
        "**While Loops**"
      ],
      "metadata": {
        "id": "1yBzAjhZ9g_M"
      }
    },
    {
      "cell_type": "code",
      "source": [
        "var = 0\n",
        "while var < 5:\n",
        "  print(var)\n",
        "  var += 2"
      ],
      "metadata": {
        "colab": {
          "base_uri": "https://localhost:8080/"
        },
        "id": "MBNpexx19gy0",
        "outputId": "ec28ec3b-47a5-4ea7-8a69-b7db3c64adf0"
      },
      "execution_count": null,
      "outputs": [
        {
          "output_type": "stream",
          "name": "stdout",
          "text": [
            "0\n",
            "2\n",
            "4\n"
          ]
        }
      ]
    },
    {
      "cell_type": "markdown",
      "source": [
        "**Nested Loops**"
      ],
      "metadata": {
        "id": "o4gQ0ZWG9q0I"
      }
    },
    {
      "cell_type": "code",
      "source": [
        "x = 0\n",
        "while x < 5:\n",
        "  for y in range (0, x):\n",
        "    print(y, end='')\n",
        "  x += 1\n",
        "  print()"
      ],
      "metadata": {
        "colab": {
          "base_uri": "https://localhost:8080/"
        },
        "id": "D8DbEZn-9qtt",
        "outputId": "c62325d6-d5c3-4800-a4ae-1f5ceb360c92"
      },
      "execution_count": null,
      "outputs": [
        {
          "output_type": "stream",
          "name": "stdout",
          "text": [
            "\n",
            "0\n",
            "01\n",
            "012\n",
            "0123\n"
          ]
        }
      ]
    },
    {
      "cell_type": "markdown",
      "source": [
        "## **6. Lists**"
      ],
      "metadata": {
        "id": "tTrlZQul_VQ2"
      }
    },
    {
      "cell_type": "markdown",
      "source": [
        "**Can contain a number of values comprised of different datatypes**"
      ],
      "metadata": {
        "id": "T57bJQiB_fb1"
      }
    },
    {
      "cell_type": "code",
      "source": [
        "pi = 3.14159\n",
        "varList = [1 ,2, 'A', 'B', 'Hello!', pi]\n",
        "print(varList[0])"
      ],
      "metadata": {
        "colab": {
          "base_uri": "https://localhost:8080/"
        },
        "id": "5GT-NgN6_ecJ",
        "outputId": "1b9397a9-a1c9-45c9-8719-78a4882634bf"
      },
      "execution_count": null,
      "outputs": [
        {
          "output_type": "stream",
          "name": "stdout",
          "text": [
            "1\n"
          ]
        }
      ]
    },
    {
      "cell_type": "code",
      "source": [
        "print(varList[4])"
      ],
      "metadata": {
        "colab": {
          "base_uri": "https://localhost:8080/"
        },
        "id": "jhbGk5LAAMi2",
        "outputId": "829bb334-191d-4788-a4cf-dcd4b88b7111"
      },
      "execution_count": null,
      "outputs": [
        {
          "output_type": "stream",
          "name": "stdout",
          "text": [
            "Hello!\n"
          ]
        }
      ]
    },
    {
      "cell_type": "code",
      "source": [
        "varList.append('World!')\n",
        "print(varList[6])"
      ],
      "metadata": {
        "colab": {
          "base_uri": "https://localhost:8080/"
        },
        "id": "asH0TUbIAQce",
        "outputId": "3b8faa57-870c-4b94-e175-c6bc28b70916"
      },
      "execution_count": null,
      "outputs": [
        {
          "output_type": "stream",
          "name": "stdout",
          "text": [
            "World!\n"
          ]
        }
      ]
    },
    {
      "cell_type": "code",
      "source": [
        "len(varList)"
      ],
      "metadata": {
        "colab": {
          "base_uri": "https://localhost:8080/"
        },
        "id": "V7MJUVHvAXB2",
        "outputId": "526baa8d-bc66-4600-dbdf-e1ca879f8940"
      },
      "execution_count": null,
      "outputs": [
        {
          "output_type": "execute_result",
          "data": {
            "text/plain": [
              "7"
            ]
          },
          "metadata": {},
          "execution_count": 93
        }
      ]
    },
    {
      "cell_type": "code",
      "source": [
        "print(varList[5])"
      ],
      "metadata": {
        "colab": {
          "base_uri": "https://localhost:8080/"
        },
        "id": "WjhGRzAbAawv",
        "outputId": "1ca35791-b0a2-40ce-bb5f-806707c996bd"
      },
      "execution_count": null,
      "outputs": [
        {
          "output_type": "stream",
          "name": "stdout",
          "text": [
            "3.14159\n"
          ]
        }
      ]
    },
    {
      "cell_type": "code",
      "source": [
        "varList.remove(pi)\n",
        "print(varList[5])"
      ],
      "metadata": {
        "colab": {
          "base_uri": "https://localhost:8080/"
        },
        "id": "Rew7EjrFAh1d",
        "outputId": "2d53ccf1-87bd-4310-ecb9-510c5fca2a63"
      },
      "execution_count": null,
      "outputs": [
        {
          "output_type": "stream",
          "name": "stdout",
          "text": [
            "World!\n"
          ]
        }
      ]
    },
    {
      "cell_type": "markdown",
      "source": [
        "## **7. Dictionaries**"
      ],
      "metadata": {
        "id": "8dCLUVE4BddG"
      }
    },
    {
      "cell_type": "code",
      "source": [
        "var = \"Hello World!\"\n",
        "varDict = {'first' : 123, 2 : 'abc',\n",
        "           '3' : var, 4 : ['lista', 'listb']}\n",
        "print(varDict['first'])"
      ],
      "metadata": {
        "colab": {
          "base_uri": "https://localhost:8080/"
        },
        "id": "QErpbCblBcsl",
        "outputId": "e984d764-c857-4624-cd39-6252ad341010"
      },
      "execution_count": null,
      "outputs": [
        {
          "output_type": "stream",
          "name": "stdout",
          "text": [
            "123\n"
          ]
        }
      ]
    },
    {
      "cell_type": "code",
      "source": [
        "print(varDict[2])"
      ],
      "metadata": {
        "colab": {
          "base_uri": "https://localhost:8080/"
        },
        "id": "k1eP7Wa9CBUm",
        "outputId": "0a401acc-f76b-413b-80ab-df8c93d644e3"
      },
      "execution_count": null,
      "outputs": [
        {
          "output_type": "stream",
          "name": "stdout",
          "text": [
            "abc\n"
          ]
        }
      ]
    },
    {
      "cell_type": "code",
      "source": [
        "print(varDict['3'])"
      ],
      "metadata": {
        "colab": {
          "base_uri": "https://localhost:8080/"
        },
        "id": "_IFujxNBCEse",
        "outputId": "a5234697-23b6-451f-9646-e90f32e26a00"
      },
      "execution_count": null,
      "outputs": [
        {
          "output_type": "stream",
          "name": "stdout",
          "text": [
            "Hello World!\n"
          ]
        }
      ]
    },
    {
      "cell_type": "code",
      "source": [
        "print(varDict[4])"
      ],
      "metadata": {
        "colab": {
          "base_uri": "https://localhost:8080/"
        },
        "id": "8EeLVM_ZCJRN",
        "outputId": "0753dbfd-00da-4b6b-9448-99d99e2fb575"
      },
      "execution_count": null,
      "outputs": [
        {
          "output_type": "stream",
          "name": "stdout",
          "text": [
            "['lista', 'listb']\n"
          ]
        }
      ]
    },
    {
      "cell_type": "code",
      "source": [
        "print(varDict[4][1])"
      ],
      "metadata": {
        "colab": {
          "base_uri": "https://localhost:8080/"
        },
        "id": "TPo9ulx6CNI1",
        "outputId": "f9eea81c-af65-43af-fe83-f3090ee0c6bb"
      },
      "execution_count": null,
      "outputs": [
        {
          "output_type": "stream",
          "name": "stdout",
          "text": [
            "listb\n"
          ]
        }
      ]
    },
    {
      "cell_type": "code",
      "source": [
        "len(varDict)"
      ],
      "metadata": {
        "colab": {
          "base_uri": "https://localhost:8080/"
        },
        "id": "pz7ZgA9WCSw-",
        "outputId": "8da4737c-da65-4dda-c3ca-e049285a8420"
      },
      "execution_count": null,
      "outputs": [
        {
          "output_type": "execute_result",
          "data": {
            "text/plain": [
              "4"
            ]
          },
          "metadata": {},
          "execution_count": 101
        }
      ]
    },
    {
      "cell_type": "markdown",
      "source": [
        "## **8. List Generators and Comprehension**"
      ],
      "metadata": {
        "id": "mN-5shA3D6mV"
      }
    },
    {
      "cell_type": "markdown",
      "source": [
        "**Generator can be used to build list in the memory as objects**"
      ],
      "metadata": {
        "id": "N38xuDUoEAk3"
      }
    },
    {
      "cell_type": "code",
      "source": [
        "def gen_num_up_to(n):\n",
        "  num = 0\n",
        "  while num < n:\n",
        "    yield num\n",
        "    num += 1"
      ],
      "metadata": {
        "id": "fYEq10QQEGbK"
      },
      "execution_count": null,
      "outputs": []
    },
    {
      "cell_type": "code",
      "source": [
        "gen_num_up_to(5)"
      ],
      "metadata": {
        "colab": {
          "base_uri": "https://localhost:8080/"
        },
        "id": "-MempN3QERAu",
        "outputId": "188519bb-67af-44ea-d010-5848963327ee"
      },
      "execution_count": null,
      "outputs": [
        {
          "output_type": "execute_result",
          "data": {
            "text/plain": [
              "<generator object gen_num_up_to at 0x79bdba3d19a0>"
            ]
          },
          "metadata": {},
          "execution_count": 103
        }
      ]
    },
    {
      "cell_type": "code",
      "source": [
        "varList = gen_num_up_to(5)\n",
        "print([var for var in varList])"
      ],
      "metadata": {
        "colab": {
          "base_uri": "https://localhost:8080/"
        },
        "id": "A4QFIUvpEZBi",
        "outputId": "58722592-52b5-4fdf-f222-08a13733ab20"
      },
      "execution_count": null,
      "outputs": [
        {
          "output_type": "stream",
          "name": "stdout",
          "text": [
            "[0, 1, 2, 3, 4]\n"
          ]
        }
      ]
    },
    {
      "cell_type": "code",
      "source": [
        "def gen_num_up_to(n):\n",
        "  num = 0\n",
        "  while num < n:\n",
        "    yield num\n",
        "    num += 2\n",
        "\n",
        "varList = gen_num_up_to(5)\n",
        "print([var for var in varList])"
      ],
      "metadata": {
        "colab": {
          "base_uri": "https://localhost:8080/"
        },
        "id": "CHOjtU43EiCl",
        "outputId": "def1b90e-379a-4590-d31f-d53a65041dff"
      },
      "execution_count": null,
      "outputs": [
        {
          "output_type": "stream",
          "name": "stdout",
          "text": [
            "[0, 2, 4]\n"
          ]
        }
      ]
    },
    {
      "cell_type": "code",
      "source": [
        "varList = range(0, 5, 2)\n",
        "print([var for var in varList])"
      ],
      "metadata": {
        "colab": {
          "base_uri": "https://localhost:8080/"
        },
        "id": "dluDSCX5E2x-",
        "outputId": "cf3dd256-38c8-4f9e-ab5b-523c240b1c9f"
      },
      "execution_count": null,
      "outputs": [
        {
          "output_type": "stream",
          "name": "stdout",
          "text": [
            "[0, 2, 4]\n"
          ]
        }
      ]
    },
    {
      "cell_type": "markdown",
      "source": [
        "## **9. Slicing**"
      ],
      "metadata": {
        "id": "i4I1Eo9hGiM1"
      }
    },
    {
      "cell_type": "code",
      "source": [
        "varList = [1, 2, 3, 4, 5, 6, 7, 8, 9, 10]\n",
        "print(varList[:5])"
      ],
      "metadata": {
        "colab": {
          "base_uri": "https://localhost:8080/"
        },
        "id": "HmaXwFoWGmVX",
        "outputId": "144df2eb-cb36-47da-f390-d921dda733ee"
      },
      "execution_count": 107,
      "outputs": [
        {
          "output_type": "stream",
          "name": "stdout",
          "text": [
            "[1, 2, 3, 4, 5]\n"
          ]
        }
      ]
    },
    {
      "cell_type": "code",
      "source": [
        "print(varList[5:])"
      ],
      "metadata": {
        "colab": {
          "base_uri": "https://localhost:8080/"
        },
        "id": "ytQxewaBGx42",
        "outputId": "2f9decca-67bc-49ae-e1a6-2b447acee50a"
      },
      "execution_count": 108,
      "outputs": [
        {
          "output_type": "stream",
          "name": "stdout",
          "text": [
            "[6, 7, 8, 9, 10]\n"
          ]
        }
      ]
    },
    {
      "cell_type": "code",
      "source": [
        "print(varList[:-2])"
      ],
      "metadata": {
        "colab": {
          "base_uri": "https://localhost:8080/"
        },
        "id": "f44Z58eSG1Xm",
        "outputId": "98718dd0-5e50-4cb2-92b6-5bae526d0406"
      },
      "execution_count": 109,
      "outputs": [
        {
          "output_type": "stream",
          "name": "stdout",
          "text": [
            "[1, 2, 3, 4, 5, 6, 7, 8]\n"
          ]
        }
      ]
    },
    {
      "cell_type": "code",
      "source": [
        "print(varList[-2:])"
      ],
      "metadata": {
        "colab": {
          "base_uri": "https://localhost:8080/"
        },
        "id": "DE9Qf_48G6EF",
        "outputId": "6b7b8ef4-efe9-4b9e-a7f0-bb3026a6346c"
      },
      "execution_count": 110,
      "outputs": [
        {
          "output_type": "stream",
          "name": "stdout",
          "text": [
            "[9, 10]\n"
          ]
        }
      ]
    },
    {
      "cell_type": "code",
      "source": [
        "print(varList[2:-2])"
      ],
      "metadata": {
        "colab": {
          "base_uri": "https://localhost:8080/"
        },
        "id": "7siIVOcmG_OG",
        "outputId": "75bd5e69-4a96-4954-e2b3-59d0355d2df0"
      },
      "execution_count": 111,
      "outputs": [
        {
          "output_type": "stream",
          "name": "stdout",
          "text": [
            "[3, 4, 5, 6, 7, 8]\n"
          ]
        }
      ]
    },
    {
      "cell_type": "code",
      "source": [
        "print(varList[2:8:2])"
      ],
      "metadata": {
        "colab": {
          "base_uri": "https://localhost:8080/"
        },
        "id": "fB52wBOhHDfd",
        "outputId": "e994f2d1-6e75-49a9-e52a-81c5f908b699"
      },
      "execution_count": 112,
      "outputs": [
        {
          "output_type": "stream",
          "name": "stdout",
          "text": [
            "[3, 5, 7]\n"
          ]
        }
      ]
    },
    {
      "cell_type": "markdown",
      "source": [
        "## **Functions**"
      ],
      "metadata": {
        "id": "hHgXotn4IN31"
      }
    },
    {
      "cell_type": "markdown",
      "source": [
        "**Python functions use the following notation:**\n",
        "\n",
        "    def function_name:\n",
        "      commands"
      ],
      "metadata": {
        "id": "1WGlHB54IrVM"
      }
    },
    {
      "cell_type": "code",
      "source": [
        "def remainder(n, m):\n",
        "  while True:\n",
        "    if n - m < 0:\n",
        "      return n\n",
        "    else: n = n - m\n",
        "\n",
        "remainder(10, 4)"
      ],
      "metadata": {
        "colab": {
          "base_uri": "https://localhost:8080/"
        },
        "id": "LZLJUUXAIRPe",
        "outputId": "9ba90772-c85b-4252-84d7-c5465261635f"
      },
      "execution_count": 116,
      "outputs": [
        {
          "output_type": "execute_result",
          "data": {
            "text/plain": [
              "2"
            ]
          },
          "metadata": {},
          "execution_count": 116
        }
      ]
    }
  ]
}