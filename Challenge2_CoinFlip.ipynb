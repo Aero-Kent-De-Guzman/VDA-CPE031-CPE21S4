{
  "nbformat": 4,
  "nbformat_minor": 0,
  "metadata": {
    "colab": {
      "provenance": [],
      "authorship_tag": "ABX9TyPnsXBcm5qbSZWpG2uughbx",
      "include_colab_link": true
    },
    "kernelspec": {
      "name": "python3",
      "display_name": "Python 3"
    },
    "language_info": {
      "name": "python"
    }
  },
  "cells": [
    {
      "cell_type": "markdown",
      "metadata": {
        "id": "view-in-github",
        "colab_type": "text"
      },
      "source": [
        "<a href=\"https://colab.research.google.com/github/Aero-Kent-De-Guzman/VDA-CPE031-CPE21S4/blob/main/Challenge2_CoinFlip.ipynb\" target=\"_parent\"><img src=\"https://colab.research.google.com/assets/colab-badge.svg\" alt=\"Open In Colab\"/></a>"
      ]
    },
    {
      "cell_type": "code",
      "execution_count": 11,
      "metadata": {
        "colab": {
          "base_uri": "https://localhost:8080/"
        },
        "id": "cuq5Iy9yxidl",
        "outputId": "30ed78c9-f7e1-4428-94e8-c287f0b109e3"
      },
      "outputs": [
        {
          "output_type": "stream",
          "name": "stdout",
          "text": [
            "How many coinflips? 10\n",
            "['0', '1', '0', '1', '1', '0', '0', '1', '1', '0']\n",
            "1 = heads ; 0 = tails\n"
          ]
        }
      ],
      "source": [
        "import numpy as np\n",
        "\n",
        "def coin_flip(n):\n",
        "  ListContainer = []\n",
        "  while n != 0:\n",
        "    x = np.random.randint(0,5)\n",
        "    if x > 2:\n",
        "      ListContainer.append('1')\n",
        "      # 1 = heads\n",
        "    else:\n",
        "      ListContainer.append('0')\n",
        "      # 2 = heads\n",
        "    n -= 1\n",
        "  print(ListContainer)\n",
        "\n",
        "coin_flip(int(input('How many coinflips? ')))\n",
        "print('1 = heads ; 0 = tails')"
      ]
    }
  ]
}