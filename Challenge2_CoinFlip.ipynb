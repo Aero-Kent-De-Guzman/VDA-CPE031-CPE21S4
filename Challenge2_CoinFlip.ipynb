{
  "nbformat": 4,
  "nbformat_minor": 0,
  "metadata": {
    "colab": {
      "provenance": [],
      "authorship_tag": "ABX9TyP240AjT+lTJh20HFzIgkXs",
      "include_colab_link": true
    },
    "kernelspec": {
      "name": "python3",
      "display_name": "Python 3"
    },
    "language_info": {
      "name": "python"
    }
  },
  "cells": [
    {
      "cell_type": "markdown",
      "metadata": {
        "id": "view-in-github",
        "colab_type": "text"
      },
      "source": [
        "<a href=\"https://colab.research.google.com/github/Aero-Kent-De-Guzman/VDA-CPE031-CPE21S4/blob/main/Challenge2_CoinFlip.ipynb\" target=\"_parent\"><img src=\"https://colab.research.google.com/assets/colab-badge.svg\" alt=\"Open In Colab\"/></a>"
      ]
    },
    {
      "cell_type": "code",
      "execution_count": 14,
      "metadata": {
        "colab": {
          "base_uri": "https://localhost:8080/"
        },
        "id": "cuq5Iy9yxidl",
        "outputId": "f5192c1e-c094-4eff-dd05-6f153294343f"
      },
      "outputs": [
        {
          "output_type": "stream",
          "name": "stdout",
          "text": [
            "How many coinflips? 10\n",
            "['1', '0', '0', '1', '0', '0', '1', '1', '0', '1']\n",
            "1 = heads ; 0 = tails\n"
          ]
        }
      ],
      "source": [
        "import numpy as np\n",
        "\n",
        "def coin_flip(n):\n",
        "  ListContainer = []\n",
        "  while n != 0:\n",
        "    x = np.random.randint(0,5)\n",
        "    if x > 2:\n",
        "      ListContainer.append('1')\n",
        "      # 1 = heads\n",
        "    else:\n",
        "      ListContainer.append('0')\n",
        "      # 0 = heads\n",
        "    n -= 1\n",
        "  print(ListContainer)\n",
        "\n",
        "coin_flip(int(input('How many coinflips? ')))\n",
        "print('1 = heads ; 0 = tails')"
      ]
    }
  ]
}