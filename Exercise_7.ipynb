{
  "nbformat": 4,
  "nbformat_minor": 0,
  "metadata": {
    "colab": {
      "provenance": [],
      "authorship_tag": "ABX9TyMEt0AUh1G2bbl8BBSVUU76",
      "include_colab_link": true
    },
    "kernelspec": {
      "name": "python3",
      "display_name": "Python 3"
    },
    "language_info": {
      "name": "python"
    }
  },
  "cells": [
    {
      "cell_type": "markdown",
      "metadata": {
        "id": "view-in-github",
        "colab_type": "text"
      },
      "source": [
        "<a href=\"https://colab.research.google.com/github/Aero-Kent-De-Guzman/VDA-CPE031-CPE21S4/blob/main/Exercise_7.ipynb\" target=\"_parent\"><img src=\"https://colab.research.google.com/assets/colab-badge.svg\" alt=\"Open In Colab\"/></a>"
      ]
    },
    {
      "cell_type": "markdown",
      "source": [
        "# **Creating DataFrame**"
      ],
      "metadata": {
        "id": "FoiWpSn7Lc4g"
      }
    },
    {
      "cell_type": "code",
      "execution_count": 1,
      "metadata": {
        "colab": {
          "base_uri": "https://localhost:8080/"
        },
        "id": "IwLBt661K2Qz",
        "outputId": "4232d521-7f54-4e5a-f573-7835b2a9193d"
      },
      "outputs": [
        {
          "output_type": "stream",
          "name": "stdout",
          "text": [
            "Requirement already satisfied: pandas in /usr/local/lib/python3.10/dist-packages (2.2.2)\n",
            "Requirement already satisfied: numpy>=1.22.4 in /usr/local/lib/python3.10/dist-packages (from pandas) (1.26.4)\n",
            "Requirement already satisfied: python-dateutil>=2.8.2 in /usr/local/lib/python3.10/dist-packages (from pandas) (2.8.2)\n",
            "Requirement already satisfied: pytz>=2020.1 in /usr/local/lib/python3.10/dist-packages (from pandas) (2024.2)\n",
            "Requirement already satisfied: tzdata>=2022.7 in /usr/local/lib/python3.10/dist-packages (from pandas) (2024.2)\n",
            "Requirement already satisfied: six>=1.5 in /usr/local/lib/python3.10/dist-packages (from python-dateutil>=2.8.2->pandas) (1.16.0)\n"
          ]
        }
      ],
      "source": [
        "pip install pandas"
      ]
    },
    {
      "cell_type": "code",
      "source": [
        "import pandas as pd\n",
        "\n",
        "data = {\n",
        "  'apples'  : [3,2,0,1],\n",
        "  'oranges' : [0,3,7,2]\n",
        "}\n",
        "\n",
        "purchases = pd.DataFrame(data)\n",
        "print(purchases)\n",
        "\n",
        "purchases = pd.DataFrame(data, index = ['June','Robert','Lily','David'])\n",
        "print(purchases)\n",
        "purchases.loc['June']"
      ],
      "metadata": {
        "colab": {
          "base_uri": "https://localhost:8080/",
          "height": 320
        },
        "id": "rPpAIvlfK5cS",
        "outputId": "a21326f5-e2b0-44db-dde8-0bba2445a3dd"
      },
      "execution_count": 21,
      "outputs": [
        {
          "output_type": "stream",
          "name": "stdout",
          "text": [
            "   apples  oranges\n",
            "0       3        0\n",
            "1       2        3\n",
            "2       0        7\n",
            "3       1        2\n",
            "        apples  oranges\n",
            "June         3        0\n",
            "Robert       2        3\n",
            "Lily         0        7\n",
            "David        1        2\n"
          ]
        },
        {
          "output_type": "execute_result",
          "data": {
            "text/plain": [
              "apples     3\n",
              "oranges    0\n",
              "Name: June, dtype: int64"
            ],
            "text/html": [
              "<div>\n",
              "<style scoped>\n",
              "    .dataframe tbody tr th:only-of-type {\n",
              "        vertical-align: middle;\n",
              "    }\n",
              "\n",
              "    .dataframe tbody tr th {\n",
              "        vertical-align: top;\n",
              "    }\n",
              "\n",
              "    .dataframe thead th {\n",
              "        text-align: right;\n",
              "    }\n",
              "</style>\n",
              "<table border=\"1\" class=\"dataframe\">\n",
              "  <thead>\n",
              "    <tr style=\"text-align: right;\">\n",
              "      <th></th>\n",
              "      <th>June</th>\n",
              "    </tr>\n",
              "  </thead>\n",
              "  <tbody>\n",
              "    <tr>\n",
              "      <th>apples</th>\n",
              "      <td>3</td>\n",
              "    </tr>\n",
              "    <tr>\n",
              "      <th>oranges</th>\n",
              "      <td>0</td>\n",
              "    </tr>\n",
              "  </tbody>\n",
              "</table>\n",
              "</div><br><label><b>dtype:</b> int64</label>"
            ]
          },
          "metadata": {},
          "execution_count": 21
        }
      ]
    },
    {
      "cell_type": "markdown",
      "source": [
        "# **Importing DataFrame to csv or excel file**"
      ],
      "metadata": {
        "id": "VYqo-3YuNVUh"
      }
    },
    {
      "cell_type": "code",
      "source": [
        "purchases.to_csv('fruits.csv')\n",
        "# or\n",
        "purchases.to_excel('fruits.xlsx')"
      ],
      "metadata": {
        "id": "Qq9IU6iZLWoD"
      },
      "execution_count": 24,
      "outputs": []
    },
    {
      "cell_type": "markdown",
      "source": [
        "# **Reading Data from csv**"
      ],
      "metadata": {
        "id": "73JaCYITOBJv"
      }
    },
    {
      "cell_type": "code",
      "source": [
        "\"\"\"\n",
        "  from google.colab import files\n",
        "  uploaded = files.upload()\n",
        "  # No longer needed since the .csv files are already imported\n",
        "\"\"\"\n",
        "\n",
        "import pandas as pd\n",
        "data = pd.read_csv('fruits.csv')\n",
        "purchases = pd.DataFrame(data)\n",
        "print(purchases)"
      ],
      "metadata": {
        "colab": {
          "base_uri": "https://localhost:8080/"
        },
        "id": "mAos6cquNeuf",
        "outputId": "62b32eca-b81c-4466-aeb4-3b6ae536ef20"
      },
      "execution_count": 30,
      "outputs": [
        {
          "output_type": "stream",
          "name": "stdout",
          "text": [
            "  Unnamed: 0  apples  oranges\n",
            "0       June       3        0\n",
            "1     Robert       2        3\n",
            "2       Lily       0        7\n",
            "3      David       1        2\n"
          ]
        }
      ]
    },
    {
      "cell_type": "markdown",
      "source": [
        "# **Loading the data from excel file into DataFrame**"
      ],
      "metadata": {
        "id": "gndpRk17O2iO"
      }
    },
    {
      "cell_type": "code",
      "source": [
        "#Loading the data from excel file\n",
        "data = pd.read_excel('fruits.xlsx')\n",
        "purchases = pd.DataFrame(data)\n",
        "print(purchases)"
      ],
      "metadata": {
        "colab": {
          "base_uri": "https://localhost:8080/"
        },
        "id": "-E500YlOOOw_",
        "outputId": "461891c5-2e3e-42ae-c9ad-c74682a9ec33"
      },
      "execution_count": 34,
      "outputs": [
        {
          "output_type": "stream",
          "name": "stdout",
          "text": [
            "  Unnamed: 0  apples  oranges\n",
            "0       June       3        0\n",
            "1     Robert       2        3\n",
            "2       Lily       0        7\n",
            "3      David       1        2\n"
          ]
        }
      ]
    },
    {
      "cell_type": "markdown",
      "source": [
        "# **DataFrame.head(n)**"
      ],
      "metadata": {
        "id": "ZzajdN6jPEtH"
      }
    },
    {
      "cell_type": "code",
      "source": [
        "print(data.head(3))"
      ],
      "metadata": {
        "colab": {
          "base_uri": "https://localhost:8080/"
        },
        "id": "1JAwzX05PD3H",
        "outputId": "3969c421-952b-4cd5-b8a0-4c2a024c5d47"
      },
      "execution_count": 36,
      "outputs": [
        {
          "output_type": "stream",
          "name": "stdout",
          "text": [
            "  Unnamed: 0  apples  oranges\n",
            "0       June       3        0\n",
            "1     Robert       2        3\n",
            "2       Lily       0        7\n"
          ]
        }
      ]
    },
    {
      "cell_type": "markdown",
      "source": [
        "# **DataFrame.tail(n)**"
      ],
      "metadata": {
        "id": "rUcB_uWfPvMG"
      }
    },
    {
      "cell_type": "code",
      "source": [
        "print(data.tail(3))"
      ],
      "metadata": {
        "colab": {
          "base_uri": "https://localhost:8080/"
        },
        "id": "bgr_b2FUPLdX",
        "outputId": "7200a979-85ba-4017-94ad-86f7747a1bbc"
      },
      "execution_count": 37,
      "outputs": [
        {
          "output_type": "stream",
          "name": "stdout",
          "text": [
            "  Unnamed: 0  apples  oranges\n",
            "1     Robert       2        3\n",
            "2       Lily       0        7\n",
            "3      David       1        2\n"
          ]
        }
      ]
    }
  ]
}